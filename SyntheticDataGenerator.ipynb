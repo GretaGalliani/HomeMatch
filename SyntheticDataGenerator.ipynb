{
 "cells": [
  {
   "cell_type": "markdown",
   "metadata": {},
   "source": [
    "# Synthetic Data Generator\n",
    "\n",
    "This notebook generates synthetic real estate listings for properties in Milan, Italy using a Large Language Model (LLM). \n",
    "The workflow consists of three main steps:\n",
    "1. Loading structured property data (area, location, amenities, etc.)\n",
    "2. Generating natural language descriptions using LLM\n",
    "3. Computing embeddings and storing them in a vector database\n",
    "\n",
    "The generated listings will be used in the `HomeMatch.ipynb` notebook to create a recommendation system\n",
    "that matches buyer preferences with available properties using semantic search."
   ]
  },
  {
   "cell_type": "code",
   "execution_count": null,
   "metadata": {},
   "outputs": [],
   "source": [
    "# Import required libraries and set up environment\n",
    "import os, sys\n",
    "import pandas as pd \n",
    "\n",
    "# Get project root directory from git\n",
    "source = os.popen('git rev-parse --show-toplevel').read().strip('\\n')\n",
    "sys.path.insert(0, source)\n",
    "\n",
    "# Configure OpenAI API credentials\n",
    "# Note: API key is intentionally left empty and should be set securely\n",
    "os.environ[\"OPENAI_API_KEY\"] = \"\"\n",
    "os.environ[\"OPENAI_API_BASE\"] = \"https://openai.vocareum.com/v1\"\n",
    "\n",
    "# Import custom modules for data handling and generation\n",
    "from src.Configurator import Configurator \n",
    "from src.SyntheticDataGenerator import SyntheticDataGenerator\n",
    "\n",
    "%load_ext autoreload\n",
    "%autoreload 2"
   ]
  },
  {
   "cell_type": "code",
   "execution_count": null,
   "metadata": {},
   "outputs": [],
   "source": [
    "# Initialize configuration from YAML file\n",
    "# This loads parameters for data processing, model settings, and file paths\n",
    "config = Configurator(\n",
    "    source = source, \n",
    "    yaml_file_path = f\"{source}/src/config.yaml\"\n",
    ")"
   ]
  },
  {
   "cell_type": "code",
   "execution_count": null,
   "metadata": {},
   "outputs": [],
   "source": [
    "# Initialize SyntheticDataGenerator\n",
    "# n_listings is the number of listings to generate\n",
    "sdg = SyntheticDataGenerator(\n",
    "    config = config, \n",
    "    n_listings = 100, \n",
    "    verbose = 1\n",
    ")"
   ]
  },
  {
   "cell_type": "markdown",
   "metadata": {},
   "source": [
    "# Load house data\n",
    "Import the structured dataset containing Milan property information"
   ]
  },
  {
   "cell_type": "code",
   "execution_count": null,
   "metadata": {},
   "outputs": [],
   "source": [
    "# Load the house dataset into a pandas DataFrame\n",
    "# This contains features like area, zone, rooms, and distances to POIs\n",
    "sdg.load_house_data()"
   ]
  },
  {
   "cell_type": "markdown",
   "metadata": {},
   "source": [
    "# Generate listings\n",
    "Create natural language descriptions for properties using LLM"
   ]
  },
  {
   "cell_type": "code",
   "execution_count": null,
   "metadata": {},
   "outputs": [],
   "source": [
    "# Generate natural language descriptions for properties\n",
    "# This uses the OpenAI API to create human-like listing texts\n",
    "sdg.generate_listings()"
   ]
  },
  {
   "cell_type": "markdown",
   "metadata": {},
   "source": [
    "# Save listings\n",
    "Store both the raw listings and their vector embeddings"
   ]
  },
  {
   "cell_type": "markdown",
   "metadata": {},
   "source": [
    "## Save listings' text\n",
    "Store the raw text descriptions for future reference"
   ]
  },
  {
   "cell_type": "code",
   "execution_count": null,
   "metadata": {},
   "outputs": [],
   "source": [
    "# Save the generated listings to disk\n",
    "sdg.save_listings()"
   ]
  },
  {
   "cell_type": "markdown",
   "metadata": {},
   "source": [
    "## Create embeddings and save them in ChromaDB\n",
    "Convert listings to vector embeddings for semantic search"
   ]
  },
  {
   "cell_type": "code",
   "execution_count": null,
   "metadata": {},
   "outputs": [],
   "source": [
    "# Generate embeddings for each listing and store them in ChromaDB\n",
    "# These vectors will be used for semantic similarity search in HomeMatch.ipynb\n",
    "sdg.save_embeddings_chromadb()"
   ]
  },
  {
   "cell_type": "code",
   "execution_count": null,
   "metadata": {},
   "outputs": [],
   "source": []
  }
 ],
 "metadata": {
  "kernelspec": {
   "display_name": "house_match",
   "language": "python",
   "name": "python3"
  },
  "language_info": {
   "codemirror_mode": {
    "name": "ipython",
    "version": 3
   },
   "file_extension": ".py",
   "mimetype": "text/x-python",
   "name": "python",
   "nbconvert_exporter": "python",
   "pygments_lexer": "ipython3",
   "version": "3.11.10"
  }
 },
 "nbformat": 4,
 "nbformat_minor": 2
}
